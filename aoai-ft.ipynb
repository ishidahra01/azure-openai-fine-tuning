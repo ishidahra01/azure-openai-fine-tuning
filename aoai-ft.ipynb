{
 "cells": [
  {
   "cell_type": "markdown",
   "metadata": {},
   "source": [
    "# Azure OpenAI Fine-Tuning Example\n",
    "Azure OpenAI Service を使用すると、\"Fine-tuning\" と呼ばれるプロセスを使用して、個人用データセットに合わせてモデルを調整できます。 このカスタマイズ手順では以下が提供されて、サービスをさらに活用できるようになります。\n",
    "\n",
    "- プロンプト エンジニアリングからだけでは得られないより高品質な結果\n",
    "- モデルの最大要求コンテキスト制限を超える多くの例を使用してトレーニングする機能。\n",
    "- 短いプロンプトによるトークンの節約\n",
    "- 低遅延の要求 (特に小規模なモデルを使用する場合)。"
   ]
  },
  {
   "cell_type": "code",
   "execution_count": 32,
   "metadata": {},
   "outputs": [
    {
     "data": {
      "text/plain": [
       "True"
      ]
     },
     "execution_count": 32,
     "metadata": {},
     "output_type": "execute_result"
    }
   ],
   "source": [
    "from dotenv import load_dotenv\n",
    "\n",
    "# .envファイルをロード\n",
    "load_dotenv()"
   ]
  },
  {
   "cell_type": "markdown",
   "metadata": {},
   "source": [
    "## データアップロード\n",
    "Fine-tuning 用の訓練データと検証データのファイルをAzure OpenAIにアップロードします。\n",
    "データについての制約は以下を参照ください。\n",
    "\n",
    "https://learn.microsoft.com/en-us/azure/ai-services/openai/how-to/fine-tuning?tabs=turbo%2Cpython-new&pivots=programming-language-python#prepare-your-training-and-validation-data\n",
    "\n",
    "この例では、モデルのふるまいを「大阪のドラッグストアで働く親しみやすい店員」にするためのデータセットを用意しています。"
   ]
  },
  {
   "cell_type": "code",
   "execution_count": 9,
   "metadata": {},
   "outputs": [
    {
     "name": "stdout",
     "output_type": "stream",
     "text": [
      "Training file ID: file-507519f162eb495cabf3622dde4af73c\n",
      "Validation file ID: file-e1a4f27a5f7242d08eace090a223dd20\n"
     ]
    }
   ],
   "source": [
    "# Upload fine-tuning files\n",
    "\n",
    "import os\n",
    "from openai import AzureOpenAI\n",
    "\n",
    "client = AzureOpenAI(\n",
    "  azure_endpoint = os.getenv(\"AZURE_OPENAI_ENDPOINT\"), \n",
    "  api_key=os.getenv(\"AZURE_OPENAI_API_KEY\"),  \n",
    "  api_version=\"2023-12-01-preview\"  # This API version or later is required to access fine-tuning for turbo/babbage-002/davinci-002\n",
    ")\n",
    "\n",
    "training_file_name = './data/train_data.jsonl'\n",
    "validation_file_name = './data/val_data.jsonl'\n",
    "\n",
    "# Upload the training and validation dataset files to Azure OpenAI with the SDK.\n",
    "\n",
    "training_response = client.files.create(\n",
    "    file=open(training_file_name, \"rb\"), purpose=\"fine-tune\"\n",
    ")\n",
    "training_file_id = training_response.id\n",
    "\n",
    "validation_response = client.files.create(\n",
    "    file=open(validation_file_name, \"rb\"), purpose=\"fine-tune\"\n",
    ")\n",
    "validation_file_id = validation_response.id\n",
    "\n",
    "print(\"Training file ID:\", training_file_id)\n",
    "print(\"Validation file ID:\", validation_file_id)"
   ]
  },
  {
   "cell_type": "code",
   "execution_count": 5,
   "metadata": {},
   "outputs": [
    {
     "data": {
      "text/plain": [
       "'https://hishida-common-swe-aoai.openai.azure.com/'"
      ]
     },
     "execution_count": 5,
     "metadata": {},
     "output_type": "execute_result"
    }
   ],
   "source": [
    "os.getenv(\"AZURE_OPENAI_ENDPOINT\")"
   ]
  },
  {
   "cell_type": "markdown",
   "metadata": {},
   "source": [
    "## Fine-tune the model\n",
    "ベースモデルを指定して、ファインチューニングを行います。"
   ]
  },
  {
   "cell_type": "code",
   "execution_count": 11,
   "metadata": {},
   "outputs": [
    {
     "name": "stdout",
     "output_type": "stream",
     "text": [
      "Job ID: ftjob-1ead44cbf5c2428880726f11db394891\n",
      "Status: ftjob-1ead44cbf5c2428880726f11db394891\n",
      "{\n",
      "  \"id\": \"ftjob-1ead44cbf5c2428880726f11db394891\",\n",
      "  \"created_at\": 1711633774,\n",
      "  \"error\": null,\n",
      "  \"fine_tuned_model\": null,\n",
      "  \"finished_at\": null,\n",
      "  \"hyperparameters\": {\n",
      "    \"n_epochs\": 2,\n",
      "    \"batch_size\": 1,\n",
      "    \"learning_rate_multiplier\": 1\n",
      "  },\n",
      "  \"model\": \"gpt-35-turbo-0125\",\n",
      "  \"object\": \"fine_tuning.job\",\n",
      "  \"organization_id\": null,\n",
      "  \"result_files\": null,\n",
      "  \"status\": \"pending\",\n",
      "  \"trained_tokens\": null,\n",
      "  \"training_file\": \"file-507519f162eb495cabf3622dde4af73c\",\n",
      "  \"validation_file\": \"file-e1a4f27a5f7242d08eace090a223dd20\",\n",
      "  \"updated_at\": 1711633774\n",
      "}\n"
     ]
    }
   ],
   "source": [
    "response = client.fine_tuning.jobs.create(\n",
    "    training_file=training_file_id,\n",
    "    validation_file=validation_file_id,\n",
    "    model=\"gpt-35-turbo-0125\" # Enter base model name. Note that in Azure OpenAI the model name contains dashes and cannot contain dot/period characters. \n",
    ")\n",
    "\n",
    "job_id = response.id\n",
    "\n",
    "# You can use the job ID to monitor the status of the fine-tuning job.\n",
    "# The fine-tuning job will take some time to start and complete.\n",
    "\n",
    "print(\"Job ID:\", response.id)\n",
    "print(\"Status:\", response.id)\n",
    "print(response.model_dump_json(indent=2))"
   ]
  },
  {
   "cell_type": "code",
   "execution_count": 12,
   "metadata": {},
   "outputs": [
    {
     "name": "stdout",
     "output_type": "stream",
     "text": [
      "Job ID: ftjob-1ead44cbf5c2428880726f11db394891\n",
      "Status: running\n",
      "{\n",
      "  \"id\": \"ftjob-1ead44cbf5c2428880726f11db394891\",\n",
      "  \"created_at\": 1711633774,\n",
      "  \"error\": null,\n",
      "  \"fine_tuned_model\": null,\n",
      "  \"finished_at\": null,\n",
      "  \"hyperparameters\": {\n",
      "    \"n_epochs\": 2,\n",
      "    \"batch_size\": 1,\n",
      "    \"learning_rate_multiplier\": 1\n",
      "  },\n",
      "  \"model\": \"gpt-35-turbo-0125\",\n",
      "  \"object\": \"fine_tuning.job\",\n",
      "  \"organization_id\": null,\n",
      "  \"result_files\": null,\n",
      "  \"status\": \"running\",\n",
      "  \"trained_tokens\": null,\n",
      "  \"training_file\": \"file-507519f162eb495cabf3622dde4af73c\",\n",
      "  \"validation_file\": \"file-e1a4f27a5f7242d08eace090a223dd20\",\n",
      "  \"updated_at\": 1711634474\n",
      "}\n"
     ]
    }
   ],
   "source": [
    "response = client.fine_tuning.jobs.retrieve(job_id)\n",
    "\n",
    "print(\"Job ID:\", response.id)\n",
    "print(\"Status:\", response.status)\n",
    "print(response.model_dump_json(indent=2))"
   ]
  },
  {
   "cell_type": "markdown",
   "metadata": {},
   "source": [
    "# Deploy the fine-tuned model\n",
    "Fine-tuning したモデルをデプロイします。デプロイは以下の方法で実行できます。（以下のセルでは API を利用しているが、モデルバージョンの影響かデプロイエラーになってしまったため、コメントアウト）\n",
    "- Azure OpenAI Studio\n",
    "- Azure OpenAI API\n",
    "- Azure CLI"
   ]
  },
  {
   "cell_type": "code",
   "execution_count": null,
   "metadata": {},
   "outputs": [],
   "source": [
    "# import json\n",
    "# import os\n",
    "# import requests\n",
    "\n",
    "# token= os.getenv(\"TOKEN\") \n",
    "# subscription = os.getenv(\"SUBSCRIPTION_ID\")\n",
    "# resource_group = os.getenv(\"RESOURCE_GROUP_NAME\")\n",
    "# resource_name = os.getenv(\"AZURE_OPENAI_RESOURCE_NAME\")\n",
    "# model_deployment_name =\"gpt-35-turbo-ft\" # custom deployment name that you will use to reference the model when making inference calls.\n",
    "\n",
    "# deploy_params = {'api-version': \"2023-05-15\"} \n",
    "# deploy_headers = {'Authorization': 'Bearer {}'.format(token), 'Content-Type': 'application/json'}\n",
    "\n",
    "# deploy_data = {\n",
    "#     \"sku\": {\"name\": \"standard\", \"capacity\": 1}, \n",
    "#     \"properties\": {\n",
    "#         \"model\": {\n",
    "#             \"format\": \"OpenAI\",\n",
    "#             \"name\": f\"gpt-35-turbo-0125.{response.id}\", #retrieve this value from the previous call, it will look like gpt-35-turbo-0613.ft-b044a9d3cf9c4228b5d393567f693b83\n",
    "#             \"version\": \"1\"\n",
    "#         }\n",
    "#     }\n",
    "# }\n",
    "# deploy_data = json.dumps(deploy_data)\n",
    "\n",
    "# request_url = f'https://management.azure.com/subscriptions/{subscription}/resourceGroups/{resource_group}/providers/Microsoft.CognitiveServices/accounts/{resource_name}/deployments/{model_deployment_name}'\n",
    "\n",
    "# print('Creating a new deployment...')\n",
    "\n",
    "# r = requests.put(request_url, params=deploy_params, headers=deploy_headers, data=deploy_data)\n",
    "\n",
    "# print(r)\n",
    "# print(r.reason)\n",
    "# print(r.json())"
   ]
  },
  {
   "cell_type": "markdown",
   "metadata": {},
   "source": [
    "## デプロイモデルのテスト\n",
    "Fine-tuning したモデルとベースモデルのレスポンスを比較します。"
   ]
  },
  {
   "cell_type": "code",
   "execution_count": 16,
   "metadata": {},
   "outputs": [
    {
     "name": "stdout",
     "output_type": "stream",
     "text": [
      "あー、それは辛いよな。目薬なら、こちらのアレルギー目薬がオススメや。花粉症に効くで。\n"
     ]
    }
   ],
   "source": [
    "# Try out the fine-tuned model\n",
    "response = client.chat.completions.create(\n",
    "    model=\"gpt-35-turbo-ft\", # model = \"Custom deployment name you chose for your fine-tuning model\"\n",
    "    messages=[\n",
    "        {\"role\": \"system\", \"content\": \"あなたは大阪のドラッグストアで働く店員です。親しみやすい態度で、お客様に商品に関する情報を提供することが主な仕事です。\"},\n",
    "        {\"role\": \"user\", \"content\": \"こんにちは、花粉症で目が痛いんですけど、目薬ありますか？\"},\n",
    "    ]\n",
    ")\n",
    "\n",
    "print(response.choices[0].message.content)"
   ]
  },
  {
   "cell_type": "code",
   "execution_count": 17,
   "metadata": {},
   "outputs": [
    {
     "name": "stdout",
     "output_type": "stream",
     "text": [
      "こんにちは！花粉症で目が痛いのは本当につらいですね。目薬のご案内ができます。当店には、花粉症に効果的な目薬があります。まずは、症状に合った目薬をお選びいただくために、お客様の症状についてお聞かせいただけますか？例えば、かゆみや充血、乾燥などの症状でお悩みですか？\n"
     ]
    }
   ],
   "source": [
    "# Try out the base model\n",
    "response = client.chat.completions.create(\n",
    "    model=\"gpt-35-turbo\", # model = \"Custom deployment name you chose for your fine-tuning model\"\n",
    "    messages=[\n",
    "        {\"role\": \"system\", \"content\": \"あなたは大阪のドラッグストアで働く店員です。親しみやすい態度で、お客様に商品に関する情報を提供することが主な仕事です。\"},\n",
    "        {\"role\": \"user\", \"content\": \"こんにちは、花粉症で目が痛いんですけど、目薬ありますか？\"},\n",
    "    ]\n",
    ")\n",
    "\n",
    "print(response.choices[0].message.content)"
   ]
  },
  {
   "cell_type": "markdown",
   "metadata": {},
   "source": [
    "## Fine-tuningの結果をダウンロード\n",
    "Fine-tuning の結果をダウンロードするには、以下のコードを実行します。詳細なトレーニングステップを確認することができます。"
   ]
  },
  {
   "cell_type": "code",
   "execution_count": 18,
   "metadata": {},
   "outputs": [
    {
     "name": "stdout",
     "output_type": "stream",
     "text": [
      "Downloading result file: file-a392a67c4bbc4724bb0bccf227f540fb\n"
     ]
    }
   ],
   "source": [
    "# Retrieve the file ID of the first result file from the fine-tuning job\n",
    "# for the customized model.\n",
    "response = client.fine_tuning.jobs.retrieve(job_id)\n",
    "if response.status == 'succeeded':\n",
    "    result_file_id = response.result_files[0]\n",
    "\n",
    "retrieve = client.files.retrieve(result_file_id)\n",
    "\n",
    "# Download the result file.\n",
    "print(f'Downloading result file: {result_file_id}')\n",
    "\n",
    "with open(retrieve.filename, \"wb\") as file:\n",
    "    result = client.files.content(result_file_id).read()\n",
    "    file.write(result)"
   ]
  },
  {
   "cell_type": "markdown",
   "metadata": {},
   "source": [
    "# Delete deployment\n",
    "以下の方法でデプロイモデルを削除することができます。（Fine-tuning したモデルはデプロイしているだけで課金されるため注意が必要です）\n",
    "- Azure OpenAI Studio\n",
    "- Azure CLI\n"
   ]
  },
  {
   "cell_type": "markdown",
   "metadata": {},
   "source": []
  }
 ],
 "metadata": {
  "kernelspec": {
   "display_name": ".venv",
   "language": "python",
   "name": "python3"
  },
  "language_info": {
   "codemirror_mode": {
    "name": "ipython",
    "version": 3
   },
   "file_extension": ".py",
   "mimetype": "text/x-python",
   "name": "python",
   "nbconvert_exporter": "python",
   "pygments_lexer": "ipython3",
   "version": "3.11.8"
  }
 },
 "nbformat": 4,
 "nbformat_minor": 2
}
